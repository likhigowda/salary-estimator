{
  "cells": [
    {
      "cell_type": "markdown",
      "metadata": {
        "id": "PrxULxByJ470"
      },
      "source": [
        "### Dataset\n",
        "* https://www.kaggle.com/datasets/mohithsairamreddy/salary-data\n",
        "\n",
        "### EDA\n",
        "* https://www.kaggle.com/code/ishantgargml/salary-data-eda-with-challenges\n",
        "* https://www.kaggle.com/code/prnvthkkr/prediction-using-random-forest\n"
      ]
    },
    {
      "cell_type": "code",
      "execution_count": 52,
      "metadata": {
        "id": "vWuSBpyGKQqX"
      },
      "outputs": [],
      "source": [
        "import pandas as pd\n",
        "import seaborn as sns\n",
        "import matplotlib.pyplot as plt\n",
        "from sklearn.model_selection import train_test_split\n",
        "from sklearn.ensemble import RandomForestRegressor\n",
        "import joblib"
      ]
    },
    {
      "cell_type": "markdown",
      "metadata": {
        "id": "dk-RdNKb-KnI"
      },
      "source": [
        "### Loading dataset"
      ]
    },
    {
      "cell_type": "code",
      "execution_count": 53,
      "metadata": {
        "id": "IQnC8pUBLzo5"
      },
      "outputs": [],
      "source": [
        "data = pd.read_csv('Dataset.csv')"
      ]
    },
    {
      "cell_type": "code",
      "execution_count": 54,
      "metadata": {
        "colab": {
          "base_uri": "https://localhost:8080/",
          "height": 206
        },
        "id": "iQABKoUkcDE6",
        "outputId": "0748e0ab-734f-40ad-fc88-3dc9fad0bc7a"
      },
      "outputs": [
        {
          "data": {
            "text/html": [
              "<div>\n",
              "<style scoped>\n",
              "    .dataframe tbody tr th:only-of-type {\n",
              "        vertical-align: middle;\n",
              "    }\n",
              "\n",
              "    .dataframe tbody tr th {\n",
              "        vertical-align: top;\n",
              "    }\n",
              "\n",
              "    .dataframe thead th {\n",
              "        text-align: right;\n",
              "    }\n",
              "</style>\n",
              "<table border=\"1\" class=\"dataframe\">\n",
              "  <thead>\n",
              "    <tr style=\"text-align: right;\">\n",
              "      <th></th>\n",
              "      <th>Age</th>\n",
              "      <th>Gender</th>\n",
              "      <th>Education Level</th>\n",
              "      <th>Job Title</th>\n",
              "      <th>Years of Experience</th>\n",
              "      <th>Salary</th>\n",
              "    </tr>\n",
              "  </thead>\n",
              "  <tbody>\n",
              "    <tr>\n",
              "      <th>0</th>\n",
              "      <td>32.0</td>\n",
              "      <td>Male</td>\n",
              "      <td>Bachelor's</td>\n",
              "      <td>Software Engineer</td>\n",
              "      <td>5.0</td>\n",
              "      <td>90000.0</td>\n",
              "    </tr>\n",
              "    <tr>\n",
              "      <th>1</th>\n",
              "      <td>28.0</td>\n",
              "      <td>Female</td>\n",
              "      <td>Master's</td>\n",
              "      <td>Data Analyst</td>\n",
              "      <td>3.0</td>\n",
              "      <td>65000.0</td>\n",
              "    </tr>\n",
              "    <tr>\n",
              "      <th>2</th>\n",
              "      <td>45.0</td>\n",
              "      <td>Male</td>\n",
              "      <td>PhD</td>\n",
              "      <td>Senior Manager</td>\n",
              "      <td>15.0</td>\n",
              "      <td>150000.0</td>\n",
              "    </tr>\n",
              "    <tr>\n",
              "      <th>3</th>\n",
              "      <td>36.0</td>\n",
              "      <td>Female</td>\n",
              "      <td>Bachelor's</td>\n",
              "      <td>Sales Associate</td>\n",
              "      <td>7.0</td>\n",
              "      <td>60000.0</td>\n",
              "    </tr>\n",
              "    <tr>\n",
              "      <th>4</th>\n",
              "      <td>52.0</td>\n",
              "      <td>Male</td>\n",
              "      <td>Master's</td>\n",
              "      <td>Director</td>\n",
              "      <td>20.0</td>\n",
              "      <td>200000.0</td>\n",
              "    </tr>\n",
              "  </tbody>\n",
              "</table>\n",
              "</div>"
            ],
            "text/plain": [
              "    Age  Gender Education Level          Job Title  Years of Experience  \\\n",
              "0  32.0    Male      Bachelor's  Software Engineer                  5.0   \n",
              "1  28.0  Female        Master's       Data Analyst                  3.0   \n",
              "2  45.0    Male             PhD     Senior Manager                 15.0   \n",
              "3  36.0  Female      Bachelor's    Sales Associate                  7.0   \n",
              "4  52.0    Male        Master's           Director                 20.0   \n",
              "\n",
              "     Salary  \n",
              "0   90000.0  \n",
              "1   65000.0  \n",
              "2  150000.0  \n",
              "3   60000.0  \n",
              "4  200000.0  "
            ]
          },
          "execution_count": 54,
          "metadata": {},
          "output_type": "execute_result"
        }
      ],
      "source": [
        "data.head()"
      ]
    },
    {
      "cell_type": "markdown",
      "metadata": {
        "id": "SdaCeQsG-NhA"
      },
      "source": [
        "### EDA"
      ]
    },
    {
      "cell_type": "code",
      "execution_count": 55,
      "metadata": {
        "colab": {
          "base_uri": "https://localhost:8080/"
        },
        "id": "rWeqRlWB-Fp-",
        "outputId": "266c5be1-4e8e-4013-9771-2ae3e52ddf70"
      },
      "outputs": [
        {
          "name": "stdout",
          "output_type": "stream",
          "text": [
            "<class 'pandas.core.frame.DataFrame'>\n",
            "RangeIndex: 6704 entries, 0 to 6703\n",
            "Data columns (total 6 columns):\n",
            " #   Column               Non-Null Count  Dtype  \n",
            "---  ------               --------------  -----  \n",
            " 0   Age                  6702 non-null   float64\n",
            " 1   Gender               6702 non-null   object \n",
            " 2   Education Level      6701 non-null   object \n",
            " 3   Job Title            6702 non-null   object \n",
            " 4   Years of Experience  6701 non-null   float64\n",
            " 5   Salary               6699 non-null   float64\n",
            "dtypes: float64(3), object(3)\n",
            "memory usage: 314.4+ KB\n"
          ]
        }
      ],
      "source": [
        "data.info()"
      ]
    },
    {
      "cell_type": "markdown",
      "metadata": {
        "id": "2wuqGXB5-mzY"
      },
      "source": [
        "check null values"
      ]
    },
    {
      "cell_type": "code",
      "execution_count": 56,
      "metadata": {
        "colab": {
          "base_uri": "https://localhost:8080/"
        },
        "id": "7LivpN6k-SuE",
        "outputId": "ee73d2c0-25ab-443f-b1d3-fadb74eddac3"
      },
      "outputs": [
        {
          "data": {
            "text/plain": [
              "Age                    2\n",
              "Gender                 2\n",
              "Education Level        3\n",
              "Job Title              2\n",
              "Years of Experience    3\n",
              "Salary                 5\n",
              "dtype: int64"
            ]
          },
          "execution_count": 56,
          "metadata": {},
          "output_type": "execute_result"
        }
      ],
      "source": [
        "data.isnull().sum()"
      ]
    },
    {
      "cell_type": "code",
      "execution_count": 57,
      "metadata": {
        "id": "C3TXT7AT-_Jn"
      },
      "outputs": [],
      "source": [
        "# dropping null values\n",
        "data.dropna(inplace=True)"
      ]
    },
    {
      "cell_type": "code",
      "execution_count": 58,
      "metadata": {
        "colab": {
          "base_uri": "https://localhost:8080/"
        },
        "id": "dLzm3fsA-w0e",
        "outputId": "e9d79101-8872-4323-e632-d8c86dbb93d2"
      },
      "outputs": [
        {
          "name": "stdout",
          "output_type": "stream",
          "text": [
            "<class 'pandas.core.frame.DataFrame'>\n",
            "Index: 6698 entries, 0 to 6703\n",
            "Data columns (total 6 columns):\n",
            " #   Column               Non-Null Count  Dtype  \n",
            "---  ------               --------------  -----  \n",
            " 0   Age                  6698 non-null   float64\n",
            " 1   Gender               6698 non-null   object \n",
            " 2   Education Level      6698 non-null   object \n",
            " 3   Job Title            6698 non-null   object \n",
            " 4   Years of Experience  6698 non-null   float64\n",
            " 5   Salary               6698 non-null   float64\n",
            "dtypes: float64(3), object(3)\n",
            "memory usage: 366.3+ KB\n"
          ]
        }
      ],
      "source": [
        "data.info()"
      ]
    },
    {
      "cell_type": "markdown",
      "metadata": {
        "id": "Mg433zFRCX0q"
      },
      "source": [
        "Delete duplicate rows"
      ]
    },
    {
      "cell_type": "code",
      "execution_count": 59,
      "metadata": {
        "id": "ps4NEcTU_znK"
      },
      "outputs": [],
      "source": [
        "data.drop_duplicates(inplace=True)"
      ]
    },
    {
      "cell_type": "code",
      "execution_count": 60,
      "metadata": {
        "colab": {
          "base_uri": "https://localhost:8080/"
        },
        "id": "HSYfIgcKCoDy",
        "outputId": "2b89c568-8f5c-4e29-cccd-797df5300635"
      },
      "outputs": [
        {
          "name": "stdout",
          "output_type": "stream",
          "text": [
            "<class 'pandas.core.frame.DataFrame'>\n",
            "Index: 1787 entries, 0 to 6631\n",
            "Data columns (total 6 columns):\n",
            " #   Column               Non-Null Count  Dtype  \n",
            "---  ------               --------------  -----  \n",
            " 0   Age                  1787 non-null   float64\n",
            " 1   Gender               1787 non-null   object \n",
            " 2   Education Level      1787 non-null   object \n",
            " 3   Job Title            1787 non-null   object \n",
            " 4   Years of Experience  1787 non-null   float64\n",
            " 5   Salary               1787 non-null   float64\n",
            "dtypes: float64(3), object(3)\n",
            "memory usage: 97.7+ KB\n"
          ]
        }
      ],
      "source": [
        "data.info()"
      ]
    },
    {
      "cell_type": "markdown",
      "metadata": {
        "id": "H-L52FThD0cP"
      },
      "source": [
        "Analysis of all the columns"
      ]
    },
    {
      "cell_type": "code",
      "execution_count": 61,
      "metadata": {
        "colab": {
          "base_uri": "https://localhost:8080/",
          "height": 300
        },
        "id": "9FjphM8rCqN9",
        "outputId": "e8cbe442-6009-4d7a-ff59-43ed7d686cac"
      },
      "outputs": [
        {
          "data": {
            "text/html": [
              "<div>\n",
              "<style scoped>\n",
              "    .dataframe tbody tr th:only-of-type {\n",
              "        vertical-align: middle;\n",
              "    }\n",
              "\n",
              "    .dataframe tbody tr th {\n",
              "        vertical-align: top;\n",
              "    }\n",
              "\n",
              "    .dataframe thead th {\n",
              "        text-align: right;\n",
              "    }\n",
              "</style>\n",
              "<table border=\"1\" class=\"dataframe\">\n",
              "  <thead>\n",
              "    <tr style=\"text-align: right;\">\n",
              "      <th></th>\n",
              "      <th>Age</th>\n",
              "      <th>Years of Experience</th>\n",
              "      <th>Salary</th>\n",
              "    </tr>\n",
              "  </thead>\n",
              "  <tbody>\n",
              "    <tr>\n",
              "      <th>count</th>\n",
              "      <td>1787.000000</td>\n",
              "      <td>1787.000000</td>\n",
              "      <td>1787.000000</td>\n",
              "    </tr>\n",
              "    <tr>\n",
              "      <th>mean</th>\n",
              "      <td>35.139899</td>\n",
              "      <td>9.156128</td>\n",
              "      <td>113184.659765</td>\n",
              "    </tr>\n",
              "    <tr>\n",
              "      <th>std</th>\n",
              "      <td>8.213045</td>\n",
              "      <td>6.844924</td>\n",
              "      <td>51596.536766</td>\n",
              "    </tr>\n",
              "    <tr>\n",
              "      <th>min</th>\n",
              "      <td>21.000000</td>\n",
              "      <td>0.000000</td>\n",
              "      <td>350.000000</td>\n",
              "    </tr>\n",
              "    <tr>\n",
              "      <th>25%</th>\n",
              "      <td>29.000000</td>\n",
              "      <td>3.000000</td>\n",
              "      <td>70000.000000</td>\n",
              "    </tr>\n",
              "    <tr>\n",
              "      <th>50%</th>\n",
              "      <td>33.000000</td>\n",
              "      <td>8.000000</td>\n",
              "      <td>110000.000000</td>\n",
              "    </tr>\n",
              "    <tr>\n",
              "      <th>75%</th>\n",
              "      <td>41.000000</td>\n",
              "      <td>13.000000</td>\n",
              "      <td>160000.000000</td>\n",
              "    </tr>\n",
              "    <tr>\n",
              "      <th>max</th>\n",
              "      <td>62.000000</td>\n",
              "      <td>34.000000</td>\n",
              "      <td>250000.000000</td>\n",
              "    </tr>\n",
              "  </tbody>\n",
              "</table>\n",
              "</div>"
            ],
            "text/plain": [
              "               Age  Years of Experience         Salary\n",
              "count  1787.000000          1787.000000    1787.000000\n",
              "mean     35.139899             9.156128  113184.659765\n",
              "std       8.213045             6.844924   51596.536766\n",
              "min      21.000000             0.000000     350.000000\n",
              "25%      29.000000             3.000000   70000.000000\n",
              "50%      33.000000             8.000000  110000.000000\n",
              "75%      41.000000            13.000000  160000.000000\n",
              "max      62.000000            34.000000  250000.000000"
            ]
          },
          "execution_count": 61,
          "metadata": {},
          "output_type": "execute_result"
        }
      ],
      "source": [
        "data.describe()"
      ]
    },
    {
      "cell_type": "code",
      "execution_count": 62,
      "metadata": {
        "colab": {
          "base_uri": "https://localhost:8080/",
          "height": 523
        },
        "id": "5JdVxIxfDCa4",
        "outputId": "54953ffb-9c1d-43e2-8ea5-ab838f5697ca"
      },
      "outputs": [
        {
          "name": "stderr",
          "output_type": "stream",
          "text": [
            "d:\\After_graduation\\Python\\salary-estimator\\venv\\Lib\\site-packages\\seaborn\\axisgrid.py:118: UserWarning: The figure layout has changed to tight\n",
            "  self._figure.tight_layout(*args, **kwargs)\n"
          ]
        },
        {
          "data": {
            "text/plain": [
              "<seaborn.axisgrid.FacetGrid at 0x1ef965b0850>"
            ]
          },
          "execution_count": 62,
          "metadata": {},
          "output_type": "execute_result"
        },
        {
          "data": {
            "image/png": "[encoded data removed]",
            "text/plain": [
              "<Figure size 500x500 with 1 Axes>"
            ]
          },
          "metadata": {},
          "output_type": "display_data"
        }
      ],
      "source": [
        "sns.displot(x = 'Age', data = data, bins = 20)"
      ]
    },
    {
      "cell_type": "code",
      "execution_count": 63,
      "metadata": {
        "colab": {
          "base_uri": "https://localhost:8080/",
          "height": 523
        },
        "id": "a4MaHYvRDaOL",
        "outputId": "99487421-37b9-4aa2-92ed-36e9b19d75b7"
      },
      "outputs": [
        {
          "name": "stderr",
          "output_type": "stream",
          "text": [
            "d:\\After_graduation\\Python\\salary-estimator\\venv\\Lib\\site-packages\\seaborn\\axisgrid.py:118: UserWarning: The figure layout has changed to tight\n",
            "  self._figure.tight_layout(*args, **kwargs)\n"
          ]
        },
        {
          "data": {
            "text/plain": [
              "<seaborn.axisgrid.FacetGrid at 0x1ef9308fa50>"
            ]
          },
          "execution_count": 63,
          "metadata": {},
          "output_type": "execute_result"
        },
        {
          "data": {
            "image/png": "[encoded data removed]",
            "text/plain": [
              "<Figure size 500x500 with 1 Axes>"
            ]
          },
          "metadata": {},
          "output_type": "display_data"
        }
      ],
      "source": [
        "sns.displot(x = 'Years of Experience', data = data, bins = 20)"
      ]
    },
    {
      "cell_type": "code",
      "execution_count": 64,
      "metadata": {
        "colab": {
          "base_uri": "https://localhost:8080/",
          "height": 523
        },
        "id": "JHjy4WzVECIP",
        "outputId": "c316a125-6096-4574-9d8e-c66f70b2c15d"
      },
      "outputs": [
        {
          "name": "stderr",
          "output_type": "stream",
          "text": [
            "d:\\After_graduation\\Python\\salary-estimator\\venv\\Lib\\site-packages\\seaborn\\axisgrid.py:118: UserWarning: The figure layout has changed to tight\n",
            "  self._figure.tight_layout(*args, **kwargs)\n"
          ]
        },
        {
          "data": {
            "text/plain": [
              "<seaborn.axisgrid.FacetGrid at 0x1ef9782bb50>"
            ]
          },
          "execution_count": 64,
          "metadata": {},
          "output_type": "execute_result"
        },
        {
          "data": {
            "image/png": "[encoded data removed]",
            "text/plain": [
              "<Figure size 500x500 with 1 Axes>"
            ]
          },
          "metadata": {},
          "output_type": "display_data"
        }
      ],
      "source": [
        "sns.displot(x = 'Salary', data = data, bins = 20)"
      ]
    },
    {
      "cell_type": "markdown",
      "metadata": {
        "id": "pnEYq-QfGBoO"
      },
      "source": [
        "relation between YOE and salary"
      ]
    },
    {
      "cell_type": "code",
      "execution_count": 65,
      "metadata": {
        "colab": {
          "base_uri": "https://localhost:8080/",
          "height": 466
        },
        "id": "hM3ZC3nYEo39",
        "outputId": "a74c7c88-86e6-4896-928d-ce6617ece0bd"
      },
      "outputs": [
        {
          "data": {
            "text/plain": [
              "Text(0, 0.5, 'Salary')"
            ]
          },
          "execution_count": 65,
          "metadata": {},
          "output_type": "execute_result"
        },
        {
          "data": {
            "image/png": "[encoded data removed]",
            "text/plain": [
              "<Figure size 640x480 with 1 Axes>"
            ]
          },
          "metadata": {},
          "output_type": "display_data"
        }
      ],
      "source": [
        "plt.scatter(x = 'Years of Experience', y = 'Salary', data = data)\n",
        "plt.xlabel('Years of Experience')\n",
        "plt.ylabel('Salary')"
      ]
    },
    {
      "cell_type": "markdown",
      "metadata": {
        "id": "JURBX_z6Ke3w"
      },
      "source": [
        "checking how many records are present for particular YOE"
      ]
    },
    {
      "cell_type": "code",
      "execution_count": 66,
      "metadata": {
        "colab": {
          "base_uri": "https://localhost:8080/"
        },
        "id": "8zhg-w2cG6D5",
        "outputId": "fd01745c-ad32-42ed-da4f-e9d8a7e9b5a3"
      },
      "outputs": [
        {
          "data": {
            "text/plain": [
              "Years of Experience\n",
              "2.0     151\n",
              "3.0     142\n",
              "1.0     126\n",
              "4.0     124\n",
              "8.0     105\n",
              "6.0     105\n",
              "5.0     104\n",
              "7.0      91\n",
              "9.0      85\n",
              "12.0     80\n",
              "11.0     72\n",
              "10.0     66\n",
              "14.0     63\n",
              "13.0     62\n",
              "16.0     59\n",
              "15.0     47\n",
              "18.0     46\n",
              "19.0     44\n",
              "20.0     31\n",
              "21.0     27\n",
              "22.0     23\n",
              "17.0     22\n",
              "0.0      20\n",
              "23.0     17\n",
              "25.0     14\n",
              "1.5      11\n",
              "24.0      9\n",
              "28.0      8\n",
              "29.0      6\n",
              "30.0      5\n",
              "27.0      5\n",
              "26.0      5\n",
              "31.0      4\n",
              "33.0      3\n",
              "32.0      3\n",
              "0.5       1\n",
              "34.0      1\n",
              "Name: count, dtype: int64"
            ]
          },
          "execution_count": 66,
          "metadata": {},
          "output_type": "execute_result"
        }
      ],
      "source": [
        "#data.groupby('Years of Experience')['Years of Experience'].count()\\\n",
        "data['Years of Experience'].value_counts()"
      ]
    },
    {
      "cell_type": "markdown",
      "metadata": {
        "id": "2AVU_4_jK-jW"
      },
      "source": [
        "check for unique job titles and total nuber of records present for them"
      ]
    },
    {
      "cell_type": "code",
      "execution_count": 67,
      "metadata": {
        "colab": {
          "base_uri": "https://localhost:8080/"
        },
        "id": "hA7omQa3IHzg",
        "outputId": "72a0c993-c7b8-494b-cce6-11a9e9b72e7c"
      },
      "outputs": [
        {
          "data": {
            "text/plain": [
              "191"
            ]
          },
          "execution_count": 67,
          "metadata": {},
          "output_type": "execute_result"
        }
      ],
      "source": [
        "data['Job Title'].nunique()"
      ]
    },
    {
      "cell_type": "code",
      "execution_count": 68,
      "metadata": {
        "id": "ZzxBPv1RLRrz"
      },
      "outputs": [
        {
          "data": {
            "text/plain": [
              "array(['Software Engineer', 'Data Analyst', 'Senior Manager',\n",
              "       'Sales Associate', 'Director', 'Marketing Analyst',\n",
              "       'Product Manager', 'Sales Manager', 'Marketing Coordinator',\n",
              "       'Senior Scientist', 'Software Developer', 'HR Manager',\n",
              "       'Financial Analyst', 'Project Manager', 'Customer Service Rep',\n",
              "       'Operations Manager', 'Marketing Manager', 'Senior Engineer',\n",
              "       'Data Entry Clerk', 'Sales Director', 'Business Analyst',\n",
              "       'VP of Operations', 'IT Support', 'Recruiter', 'Financial Manager',\n",
              "       'Social Media Specialist', 'Software Manager', 'Junior Developer',\n",
              "       'Senior Consultant', 'Product Designer', 'CEO', 'Accountant',\n",
              "       'Data Scientist', 'Marketing Specialist', 'Technical Writer',\n",
              "       'HR Generalist', 'Project Engineer', 'Customer Success Rep',\n",
              "       'Sales Executive', 'UX Designer', 'Operations Director',\n",
              "       'Network Engineer', 'Administrative Assistant',\n",
              "       'Strategy Consultant', 'Copywriter', 'Account Manager',\n",
              "       'Director of Marketing', 'Help Desk Analyst',\n",
              "       'Customer Service Manager', 'Business Intelligence Analyst',\n",
              "       'Event Coordinator', 'VP of Finance', 'Graphic Designer',\n",
              "       'UX Researcher', 'Social Media Manager', 'Director of Operations',\n",
              "       'Senior Data Scientist', 'Junior Accountant',\n",
              "       'Digital Marketing Manager', 'IT Manager',\n",
              "       'Customer Service Representative', 'Business Development Manager',\n",
              "       'Senior Financial Analyst', 'Web Developer', 'Research Director',\n",
              "       'Technical Support Specialist', 'Creative Director',\n",
              "       'Senior Software Engineer', 'Human Resources Director',\n",
              "       'Content Marketing Manager', 'Technical Recruiter',\n",
              "       'Sales Representative', 'Chief Technology Officer',\n",
              "       'Junior Designer', 'Financial Advisor', 'Junior Account Manager',\n",
              "       'Senior Project Manager', 'Principal Scientist',\n",
              "       'Supply Chain Manager', 'Senior Marketing Manager',\n",
              "       'Training Specialist', 'Research Scientist',\n",
              "       'Junior Software Developer', 'Public Relations Manager',\n",
              "       'Operations Analyst', 'Product Marketing Manager',\n",
              "       'Senior HR Manager', 'Junior Web Developer',\n",
              "       'Senior Project Coordinator', 'Chief Data Officer',\n",
              "       'Digital Content Producer', 'IT Support Specialist',\n",
              "       'Senior Marketing Analyst', 'Customer Success Manager',\n",
              "       'Senior Graphic Designer', 'Software Project Manager',\n",
              "       'Supply Chain Analyst', 'Senior Business Analyst',\n",
              "       'Junior Marketing Analyst', 'Office Manager', 'Principal Engineer',\n",
              "       'Junior HR Generalist', 'Senior Product Manager',\n",
              "       'Junior Operations Analyst', 'Senior HR Generalist',\n",
              "       'Sales Operations Manager', 'Senior Software Developer',\n",
              "       'Junior Web Designer', 'Senior Training Specialist',\n",
              "       'Senior Research Scientist', 'Junior Sales Representative',\n",
              "       'Junior Marketing Manager', 'Junior Data Analyst',\n",
              "       'Senior Product Marketing Manager', 'Junior Business Analyst',\n",
              "       'Senior Sales Manager', 'Junior Marketing Specialist',\n",
              "       'Junior Project Manager', 'Senior Accountant', 'Director of Sales',\n",
              "       'Junior Recruiter', 'Senior Business Development Manager',\n",
              "       'Senior Product Designer', 'Junior Customer Support Specialist',\n",
              "       'Senior IT Support Specialist', 'Junior Financial Analyst',\n",
              "       'Senior Operations Manager', 'Director of Human Resources',\n",
              "       'Junior Software Engineer', 'Senior Sales Representative',\n",
              "       'Director of Product Management', 'Junior Copywriter',\n",
              "       'Senior Marketing Coordinator', 'Senior Human Resources Manager',\n",
              "       'Junior Business Development Associate', 'Senior Account Manager',\n",
              "       'Senior Researcher', 'Junior HR Coordinator',\n",
              "       'Director of Finance', 'Junior Marketing Coordinator',\n",
              "       'Junior Data Scientist', 'Senior Operations Analyst',\n",
              "       'Senior Human Resources Coordinator', 'Senior UX Designer',\n",
              "       'Junior Product Manager', 'Senior Marketing Specialist',\n",
              "       'Senior IT Project Manager', 'Senior Quality Assurance Analyst',\n",
              "       'Director of Sales and Marketing', 'Senior Account Executive',\n",
              "       'Director of Business Development', 'Junior Social Media Manager',\n",
              "       'Senior Human Resources Specialist', 'Senior Data Analyst',\n",
              "       'Director of Human Capital', 'Junior Advertising Coordinator',\n",
              "       'Junior UX Designer', 'Senior Marketing Director',\n",
              "       'Senior IT Consultant', 'Senior Financial Advisor',\n",
              "       'Junior Business Operations Analyst',\n",
              "       'Junior Social Media Specialist',\n",
              "       'Senior Product Development Manager', 'Junior Operations Manager',\n",
              "       'Senior Software Architect', 'Junior Research Scientist',\n",
              "       'Senior Financial Manager', 'Senior HR Specialist',\n",
              "       'Senior Data Engineer', 'Junior Operations Coordinator',\n",
              "       'Director of HR', 'Senior Operations Coordinator',\n",
              "       'Junior Financial Advisor', 'Director of Engineering',\n",
              "       'Software Engineer Manager', 'Back end Developer',\n",
              "       'Senior Project Engineer', 'Full Stack Engineer',\n",
              "       'Front end Developer', 'Front End Developer',\n",
              "       'Director of Data Science', 'Human Resources Coordinator',\n",
              "       'Junior Sales Associate', 'Human Resources Manager',\n",
              "       'Juniour HR Generalist', 'Juniour HR Coordinator',\n",
              "       'Digital Marketing Specialist', 'Receptionist',\n",
              "       'Marketing Director', 'Social Media Man', 'Delivery Driver'],\n",
              "      dtype=object)"
            ]
          },
          "execution_count": 68,
          "metadata": {},
          "output_type": "execute_result"
        }
      ],
      "source": [
        "data['Job Title'].unique()"
      ]
    },
    {
      "cell_type": "markdown",
      "metadata": {
        "id": "7khLtIGJQtYY"
      },
      "source": [
        "mapping 191 job titles into 10 generalized job titles."
      ]
    },
    {
      "cell_type": "code",
      "execution_count": 69,
      "metadata": {
        "id": "31DomNAIMUrC"
      },
      "outputs": [],
      "source": [
        "def map_job_title_to_category(job_title):\n",
        "    job_categories = {\n",
        "        \"Software and Technology\": [\"Software Engineer\", \"Data Analyst\", \"Software Developer\", \"IT Support Specialist\",\n",
        "                                    \"Network Engineer\", \"Web Developer\", \"UX Designer\", \"Technical Writer\",\n",
        "                                    \"Technical Support Specialist\", \"Full Stack Engineer\"],\n",
        "        \"Management and Leadership\": [\"Senior Manager\", \"Director\", \"VP of Operations\", \"CEO\", \"Director of Marketing\",\n",
        "                                      \"Operations Manager\", \"VP of Finance\", \"Chief Technology Officer\",\n",
        "                                      \"Director of Operations\", \"Chief Data Officer\"],\n",
        "        \"Sales and Marketing\": [\"Sales Associate\", \"Marketing Analyst\", \"Sales Manager\", \"Marketing Coordinator\",\n",
        "                                \"Marketing Manager\", \"Sales Director\", \"Business Development Manager\",\n",
        "                                \"Digital Marketing Manager\", \"Sales Representative\", \"Director of Sales\"],\n",
        "        \"Finance and Accounting\": [\"Financial Analyst\", \"Financial Manager\", \"Accountant\", \"Senior Financial Analyst\",\n",
        "                                   \"Junior Accountant\", \"Financial Advisor\", \"Chief Financial Officer (CFO)\",\n",
        "                                   \"Senior Accountant\", \"Senior Financial Manager\", \"Senior Account Executive\"],\n",
        "        \"Human Resources and Recruitment\": [\"HR Manager\", \"HR Generalist\", \"Recruiter\", \"Human Resources Director\",\n",
        "                                            \"Junior HR Generalist\", \"Junior Recruiter\", \"Director of Human Resources\",\n",
        "                                            \"Human Resources Coordinator\", \"Junior HR Coordinator\",\n",
        "                                            \"Director of Human Capital\"],\n",
        "        \"Operations and Project Management\": [\"Project Manager\", \"Operations Manager\", \"Project Engineer\",\n",
        "                                              \"Operations Director\", \"Supply Chain Manager\", \"Operations Analyst\",\n",
        "                                              \"Office Manager\", \"Junior Operations Analyst\", \"Senior Operations Manager\",\n",
        "                                              \"Junior Operations Manager\"],\n",
        "        \"Research and Analysis\": [\"Senior Scientist\", \"Data Scientist\", \"Research Director\", \"Research Scientist\",\n",
        "                                  \"Senior Data Scientist\", \"Senior Research Scientist\", \"Junior Data Analyst\",\n",
        "                                  \"Senior Marketing Analyst\", \"Senior Operations Analyst\", \"Junior Research Scientist\"],\n",
        "        \"Creative and Design\": [\"Product Manager\", \"Product Designer\", \"Graphic Designer\", \"UX Designer\", \"Copywriter\",\n",
        "                                \"Creative Director\", \"Web Designer\", \"UX Researcher\", \"Digital Content Producer\",\n",
        "                                \"Junior Web Designer\"],\n",
        "        \"Customer Service and Support\": [\"Customer Service Rep\", \"Customer Success Rep\", \"Customer Service Manager\",\n",
        "                                         \"Help Desk Analyst\", \"Customer Success Manager\", \"Junior Customer Support Specialist\",\n",
        "                                         \"Receptionist\", \"Junior Social Media Specialist\", \"Junior Social Media Manager\",\n",
        "                                         \"Delivery Driver\"]\n",
        "    }\n",
        "\n",
        "    for category, category_titles in job_categories.items():\n",
        "        if job_title in category_titles:\n",
        "            return category\n",
        "\n",
        "    return \"Others\""
      ]
    },
    {
      "cell_type": "markdown",
      "metadata": {
        "id": "zo4WdINBT7FR"
      },
      "source": [
        "making use of apply method for this"
      ]
    },
    {
      "cell_type": "code",
      "execution_count": 70,
      "metadata": {
        "id": "NTm8gi5_QjEG"
      },
      "outputs": [],
      "source": [
        "data['Job Title'] = data['Job Title'].apply(map_job_title_to_category)"
      ]
    },
    {
      "cell_type": "code",
      "execution_count": 71,
      "metadata": {
        "colab": {
          "base_uri": "https://localhost:8080/",
          "height": 206
        },
        "id": "9b03htJyUFBC",
        "outputId": "bacc79c7-de22-4eaf-a5f1-06d19485f851"
      },
      "outputs": [
        {
          "data": {
            "text/html": [
              "<div>\n",
              "<style scoped>\n",
              "    .dataframe tbody tr th:only-of-type {\n",
              "        vertical-align: middle;\n",
              "    }\n",
              "\n",
              "    .dataframe tbody tr th {\n",
              "        vertical-align: top;\n",
              "    }\n",
              "\n",
              "    .dataframe thead th {\n",
              "        text-align: right;\n",
              "    }\n",
              "</style>\n",
              "<table border=\"1\" class=\"dataframe\">\n",
              "  <thead>\n",
              "    <tr style=\"text-align: right;\">\n",
              "      <th></th>\n",
              "      <th>Age</th>\n",
              "      <th>Gender</th>\n",
              "      <th>Education Level</th>\n",
              "      <th>Job Title</th>\n",
              "      <th>Years of Experience</th>\n",
              "      <th>Salary</th>\n",
              "    </tr>\n",
              "  </thead>\n",
              "  <tbody>\n",
              "    <tr>\n",
              "      <th>0</th>\n",
              "      <td>32.0</td>\n",
              "      <td>Male</td>\n",
              "      <td>Bachelor's</td>\n",
              "      <td>Software and Technology</td>\n",
              "      <td>5.0</td>\n",
              "      <td>90000.0</td>\n",
              "    </tr>\n",
              "    <tr>\n",
              "      <th>1</th>\n",
              "      <td>28.0</td>\n",
              "      <td>Female</td>\n",
              "      <td>Master's</td>\n",
              "      <td>Software and Technology</td>\n",
              "      <td>3.0</td>\n",
              "      <td>65000.0</td>\n",
              "    </tr>\n",
              "    <tr>\n",
              "      <th>2</th>\n",
              "      <td>45.0</td>\n",
              "      <td>Male</td>\n",
              "      <td>PhD</td>\n",
              "      <td>Management and Leadership</td>\n",
              "      <td>15.0</td>\n",
              "      <td>150000.0</td>\n",
              "    </tr>\n",
              "    <tr>\n",
              "      <th>3</th>\n",
              "      <td>36.0</td>\n",
              "      <td>Female</td>\n",
              "      <td>Bachelor's</td>\n",
              "      <td>Sales and Marketing</td>\n",
              "      <td>7.0</td>\n",
              "      <td>60000.0</td>\n",
              "    </tr>\n",
              "    <tr>\n",
              "      <th>4</th>\n",
              "      <td>52.0</td>\n",
              "      <td>Male</td>\n",
              "      <td>Master's</td>\n",
              "      <td>Management and Leadership</td>\n",
              "      <td>20.0</td>\n",
              "      <td>200000.0</td>\n",
              "    </tr>\n",
              "  </tbody>\n",
              "</table>\n",
              "</div>"
            ],
            "text/plain": [
              "    Age  Gender Education Level                  Job Title  \\\n",
              "0  32.0    Male      Bachelor's    Software and Technology   \n",
              "1  28.0  Female        Master's    Software and Technology   \n",
              "2  45.0    Male             PhD  Management and Leadership   \n",
              "3  36.0  Female      Bachelor's        Sales and Marketing   \n",
              "4  52.0    Male        Master's  Management and Leadership   \n",
              "\n",
              "   Years of Experience    Salary  \n",
              "0                  5.0   90000.0  \n",
              "1                  3.0   65000.0  \n",
              "2                 15.0  150000.0  \n",
              "3                  7.0   60000.0  \n",
              "4                 20.0  200000.0  "
            ]
          },
          "execution_count": 71,
          "metadata": {},
          "output_type": "execute_result"
        }
      ],
      "source": [
        "data.head()"
      ]
    },
    {
      "cell_type": "code",
      "execution_count": 72,
      "metadata": {
        "colab": {
          "base_uri": "https://localhost:8080/"
        },
        "id": "at1Q7K-VVAwH",
        "outputId": "51cfb4ec-863b-4bf2-ad6b-6096b09e82ae"
      },
      "outputs": [
        {
          "data": {
            "text/plain": [
              "Job Title\n",
              "Others                               862\n",
              "Software and Technology              312\n",
              "Sales and Marketing                  184\n",
              "Research and Analysis                136\n",
              "Creative and Design                   74\n",
              "Management and Leadership             66\n",
              "Human Resources and Recruitment       58\n",
              "Finance and Accounting                57\n",
              "Operations and Project Management     25\n",
              "Customer Service and Support          13\n",
              "Name: count, dtype: int64"
            ]
          },
          "execution_count": 72,
          "metadata": {},
          "output_type": "execute_result"
        }
      ],
      "source": [
        "data['Job Title'].value_counts()"
      ]
    },
    {
      "cell_type": "code",
      "execution_count": 73,
      "metadata": {
        "colab": {
          "base_uri": "https://localhost:8080/"
        },
        "id": "huTCc1dWVM0N",
        "outputId": "1ac69af9-457f-4ea9-c8b9-a7de3e064d18"
      },
      "outputs": [
        {
          "data": {
            "text/plain": [
              "array([\"Bachelor's\", \"Master's\", 'PhD', \"Bachelor's Degree\",\n",
              "       \"Master's Degree\", 'High School', 'phD'], dtype=object)"
            ]
          },
          "execution_count": 73,
          "metadata": {},
          "output_type": "execute_result"
        }
      ],
      "source": [
        "data['Education Level'].unique()"
      ]
    },
    {
      "cell_type": "markdown",
      "metadata": {
        "id": "SZZRmdeAVoqt"
      },
      "source": [
        "Here\n",
        "* Bachelor's & Bachelor's Degree are same\n",
        "* Master's & Master's Degree are same\n",
        "* PhD & phD are same\n"
      ]
    },
    {
      "cell_type": "code",
      "execution_count": 74,
      "metadata": {
        "id": "Rq3rngjZVaRR"
      },
      "outputs": [],
      "source": [
        "data['Education Level'] = data['Education Level'].replace({\"Bachelor's Degree\": \"Bachelor's\",\n",
        "                                                           \"Master's Degree\": \"Master's\",\n",
        "                                                           \"PhD\" : \"phD\"})"
      ]
    },
    {
      "cell_type": "code",
      "execution_count": 75,
      "metadata": {
        "colab": {
          "base_uri": "https://localhost:8080/"
        },
        "id": "ynmiiHhVWoop",
        "outputId": "c7f7c4e7-4cc3-4bba-f7c1-49f2abc8f2f2"
      },
      "outputs": [
        {
          "data": {
            "text/plain": [
              "array(['Male', 'Female', 'Other'], dtype=object)"
            ]
          },
          "execution_count": 75,
          "metadata": {},
          "output_type": "execute_result"
        }
      ],
      "source": [
        "data['Gender'].unique()"
      ]
    },
    {
      "cell_type": "markdown",
      "metadata": {
        "id": "bD3l1uIWbnzo"
      },
      "source": [
        "Check for job titles that offers more salary"
      ]
    },
    {
      "cell_type": "code",
      "execution_count": 76,
      "metadata": {
        "colab": {
          "base_uri": "https://localhost:8080/",
          "height": 730
        },
        "id": "aEDrzle2bynA",
        "outputId": "68411398-4f71-4b10-9bce-9f5e6dc3f912"
      },
      "outputs": [
        {
          "data": {
            "text/plain": [
              "Text(0.5, 1.0, 'Top 10 Job Titles those offer max salary')"
            ]
          },
          "execution_count": 76,
          "metadata": {},
          "output_type": "execute_result"
        },
        {
          "data": {
            "image/png": "[encoded data removed]",
            "text/plain": [
              "<Figure size 640x480 with 1 Axes>"
            ]
          },
          "metadata": {},
          "output_type": "display_data"
        }
      ],
      "source": [
        "sns.barplot(x = 'Job Title', y = 'Salary', data = data)\n",
        "plt.xticks(rotation=90)\n",
        "plt.title('Top 10 Job Titles those offer max salary')"
      ]
    },
    {
      "cell_type": "markdown",
      "metadata": {
        "id": "GsgOPJFrXlKR"
      },
      "source": [
        "Applying one hot encoding"
      ]
    },
    {
      "cell_type": "code",
      "execution_count": 77,
      "metadata": {
        "id": "F3tW4efBW1xL"
      },
      "outputs": [],
      "source": [
        "data = pd.get_dummies(data = data)"
      ]
    },
    {
      "cell_type": "code",
      "execution_count": 78,
      "metadata": {
        "colab": {
          "base_uri": "https://localhost:8080/",
          "height": 339
        },
        "id": "OxbXULlAYG-V",
        "outputId": "1eee12eb-8ef4-44d4-a4e3-ab2973a62c49"
      },
      "outputs": [
        {
          "data": {
            "text/html": [
              "<div>\n",
              "<style scoped>\n",
              "    .dataframe tbody tr th:only-of-type {\n",
              "        vertical-align: middle;\n",
              "    }\n",
              "\n",
              "    .dataframe tbody tr th {\n",
              "        vertical-align: top;\n",
              "    }\n",
              "\n",
              "    .dataframe thead th {\n",
              "        text-align: right;\n",
              "    }\n",
              "</style>\n",
              "<table border=\"1\" class=\"dataframe\">\n",
              "  <thead>\n",
              "    <tr style=\"text-align: right;\">\n",
              "      <th></th>\n",
              "      <th>Age</th>\n",
              "      <th>Years of Experience</th>\n",
              "      <th>Salary</th>\n",
              "      <th>Gender_Female</th>\n",
              "      <th>Gender_Male</th>\n",
              "      <th>Gender_Other</th>\n",
              "      <th>Education Level_Bachelor's</th>\n",
              "      <th>Education Level_High School</th>\n",
              "      <th>Education Level_Master's</th>\n",
              "      <th>Education Level_phD</th>\n",
              "      <th>Job Title_Creative and Design</th>\n",
              "      <th>Job Title_Customer Service and Support</th>\n",
              "      <th>Job Title_Finance and Accounting</th>\n",
              "      <th>Job Title_Human Resources and Recruitment</th>\n",
              "      <th>Job Title_Management and Leadership</th>\n",
              "      <th>Job Title_Operations and Project Management</th>\n",
              "      <th>Job Title_Others</th>\n",
              "      <th>Job Title_Research and Analysis</th>\n",
              "      <th>Job Title_Sales and Marketing</th>\n",
              "      <th>Job Title_Software and Technology</th>\n",
              "    </tr>\n",
              "  </thead>\n",
              "  <tbody>\n",
              "    <tr>\n",
              "      <th>0</th>\n",
              "      <td>32.0</td>\n",
              "      <td>5.0</td>\n",
              "      <td>90000.0</td>\n",
              "      <td>False</td>\n",
              "      <td>True</td>\n",
              "      <td>False</td>\n",
              "      <td>True</td>\n",
              "      <td>False</td>\n",
              "      <td>False</td>\n",
              "      <td>False</td>\n",
              "      <td>False</td>\n",
              "      <td>False</td>\n",
              "      <td>False</td>\n",
              "      <td>False</td>\n",
              "      <td>False</td>\n",
              "      <td>False</td>\n",
              "      <td>False</td>\n",
              "      <td>False</td>\n",
              "      <td>False</td>\n",
              "      <td>True</td>\n",
              "    </tr>\n",
              "    <tr>\n",
              "      <th>1</th>\n",
              "      <td>28.0</td>\n",
              "      <td>3.0</td>\n",
              "      <td>65000.0</td>\n",
              "      <td>True</td>\n",
              "      <td>False</td>\n",
              "      <td>False</td>\n",
              "      <td>False</td>\n",
              "      <td>False</td>\n",
              "      <td>True</td>\n",
              "      <td>False</td>\n",
              "      <td>False</td>\n",
              "      <td>False</td>\n",
              "      <td>False</td>\n",
              "      <td>False</td>\n",
              "      <td>False</td>\n",
              "      <td>False</td>\n",
              "      <td>False</td>\n",
              "      <td>False</td>\n",
              "      <td>False</td>\n",
              "      <td>True</td>\n",
              "    </tr>\n",
              "    <tr>\n",
              "      <th>2</th>\n",
              "      <td>45.0</td>\n",
              "      <td>15.0</td>\n",
              "      <td>150000.0</td>\n",
              "      <td>False</td>\n",
              "      <td>True</td>\n",
              "      <td>False</td>\n",
              "      <td>False</td>\n",
              "      <td>False</td>\n",
              "      <td>False</td>\n",
              "      <td>True</td>\n",
              "      <td>False</td>\n",
              "      <td>False</td>\n",
              "      <td>False</td>\n",
              "      <td>False</td>\n",
              "      <td>True</td>\n",
              "      <td>False</td>\n",
              "      <td>False</td>\n",
              "      <td>False</td>\n",
              "      <td>False</td>\n",
              "      <td>False</td>\n",
              "    </tr>\n",
              "    <tr>\n",
              "      <th>3</th>\n",
              "      <td>36.0</td>\n",
              "      <td>7.0</td>\n",
              "      <td>60000.0</td>\n",
              "      <td>True</td>\n",
              "      <td>False</td>\n",
              "      <td>False</td>\n",
              "      <td>True</td>\n",
              "      <td>False</td>\n",
              "      <td>False</td>\n",
              "      <td>False</td>\n",
              "      <td>False</td>\n",
              "      <td>False</td>\n",
              "      <td>False</td>\n",
              "      <td>False</td>\n",
              "      <td>False</td>\n",
              "      <td>False</td>\n",
              "      <td>False</td>\n",
              "      <td>False</td>\n",
              "      <td>True</td>\n",
              "      <td>False</td>\n",
              "    </tr>\n",
              "    <tr>\n",
              "      <th>4</th>\n",
              "      <td>52.0</td>\n",
              "      <td>20.0</td>\n",
              "      <td>200000.0</td>\n",
              "      <td>False</td>\n",
              "      <td>True</td>\n",
              "      <td>False</td>\n",
              "      <td>False</td>\n",
              "      <td>False</td>\n",
              "      <td>True</td>\n",
              "      <td>False</td>\n",
              "      <td>False</td>\n",
              "      <td>False</td>\n",
              "      <td>False</td>\n",
              "      <td>False</td>\n",
              "      <td>True</td>\n",
              "      <td>False</td>\n",
              "      <td>False</td>\n",
              "      <td>False</td>\n",
              "      <td>False</td>\n",
              "      <td>False</td>\n",
              "    </tr>\n",
              "  </tbody>\n",
              "</table>\n",
              "</div>"
            ],
            "text/plain": [
              "    Age  Years of Experience    Salary  Gender_Female  Gender_Male  \\\n",
              "0  32.0                  5.0   90000.0          False         True   \n",
              "1  28.0                  3.0   65000.0           True        False   \n",
              "2  45.0                 15.0  150000.0          False         True   \n",
              "3  36.0                  7.0   60000.0           True        False   \n",
              "4  52.0                 20.0  200000.0          False         True   \n",
              "\n",
              "   Gender_Other  Education Level_Bachelor's  Education Level_High School  \\\n",
              "0         False                        True                        False   \n",
              "1         False                       False                        False   \n",
              "2         False                       False                        False   \n",
              "3         False                        True                        False   \n",
              "4         False                       False                        False   \n",
              "\n",
              "   Education Level_Master's  Education Level_phD  \\\n",
              "0                     False                False   \n",
              "1                      True                False   \n",
              "2                     False                 True   \n",
              "3                     False                False   \n",
              "4                      True                False   \n",
              "\n",
              "   Job Title_Creative and Design  Job Title_Customer Service and Support  \\\n",
              "0                          False                                   False   \n",
              "1                          False                                   False   \n",
              "2                          False                                   False   \n",
              "3                          False                                   False   \n",
              "4                          False                                   False   \n",
              "\n",
              "   Job Title_Finance and Accounting  \\\n",
              "0                             False   \n",
              "1                             False   \n",
              "2                             False   \n",
              "3                             False   \n",
              "4                             False   \n",
              "\n",
              "   Job Title_Human Resources and Recruitment  \\\n",
              "0                                      False   \n",
              "1                                      False   \n",
              "2                                      False   \n",
              "3                                      False   \n",
              "4                                      False   \n",
              "\n",
              "   Job Title_Management and Leadership  \\\n",
              "0                                False   \n",
              "1                                False   \n",
              "2                                 True   \n",
              "3                                False   \n",
              "4                                 True   \n",
              "\n",
              "   Job Title_Operations and Project Management  Job Title_Others  \\\n",
              "0                                        False             False   \n",
              "1                                        False             False   \n",
              "2                                        False             False   \n",
              "3                                        False             False   \n",
              "4                                        False             False   \n",
              "\n",
              "   Job Title_Research and Analysis  Job Title_Sales and Marketing  \\\n",
              "0                            False                          False   \n",
              "1                            False                          False   \n",
              "2                            False                          False   \n",
              "3                            False                           True   \n",
              "4                            False                          False   \n",
              "\n",
              "   Job Title_Software and Technology  \n",
              "0                               True  \n",
              "1                               True  \n",
              "2                              False  \n",
              "3                              False  \n",
              "4                              False  "
            ]
          },
          "execution_count": 78,
          "metadata": {},
          "output_type": "execute_result"
        }
      ],
      "source": [
        "data.head()"
      ]
    },
    {
      "cell_type": "markdown",
      "metadata": {
        "id": "clea9GHzYwBu"
      },
      "source": [
        "dropping Gender_Other,Education Level_High School & Job Title_Others columns"
      ]
    },
    {
      "cell_type": "code",
      "execution_count": 79,
      "metadata": {
        "id": "TxpG1qBMYI45"
      },
      "outputs": [],
      "source": [
        "data = data.drop(columns = ['Gender_Other', 'Job Title_Others','Education Level_High School'])"
      ]
    },
    {
      "cell_type": "code",
      "execution_count": 80,
      "metadata": {
        "colab": {
          "base_uri": "https://localhost:8080/",
          "height": 339
        },
        "id": "Qom_TZ0qdYMD",
        "outputId": "12a8123d-4244-4c83-8f0c-3b8729826494"
      },
      "outputs": [
        {
          "data": {
            "text/html": [
              "<div>\n",
              "<style scoped>\n",
              "    .dataframe tbody tr th:only-of-type {\n",
              "        vertical-align: middle;\n",
              "    }\n",
              "\n",
              "    .dataframe tbody tr th {\n",
              "        vertical-align: top;\n",
              "    }\n",
              "\n",
              "    .dataframe thead th {\n",
              "        text-align: right;\n",
              "    }\n",
              "</style>\n",
              "<table border=\"1\" class=\"dataframe\">\n",
              "  <thead>\n",
              "    <tr style=\"text-align: right;\">\n",
              "      <th></th>\n",
              "      <th>Age</th>\n",
              "      <th>Years of Experience</th>\n",
              "      <th>Salary</th>\n",
              "      <th>Gender_Female</th>\n",
              "      <th>Gender_Male</th>\n",
              "      <th>Education Level_Bachelor's</th>\n",
              "      <th>Education Level_Master's</th>\n",
              "      <th>Education Level_phD</th>\n",
              "      <th>Job Title_Creative and Design</th>\n",
              "      <th>Job Title_Customer Service and Support</th>\n",
              "      <th>Job Title_Finance and Accounting</th>\n",
              "      <th>Job Title_Human Resources and Recruitment</th>\n",
              "      <th>Job Title_Management and Leadership</th>\n",
              "      <th>Job Title_Operations and Project Management</th>\n",
              "      <th>Job Title_Research and Analysis</th>\n",
              "      <th>Job Title_Sales and Marketing</th>\n",
              "      <th>Job Title_Software and Technology</th>\n",
              "    </tr>\n",
              "  </thead>\n",
              "  <tbody>\n",
              "    <tr>\n",
              "      <th>0</th>\n",
              "      <td>32.0</td>\n",
              "      <td>5.0</td>\n",
              "      <td>90000.0</td>\n",
              "      <td>False</td>\n",
              "      <td>True</td>\n",
              "      <td>True</td>\n",
              "      <td>False</td>\n",
              "      <td>False</td>\n",
              "      <td>False</td>\n",
              "      <td>False</td>\n",
              "      <td>False</td>\n",
              "      <td>False</td>\n",
              "      <td>False</td>\n",
              "      <td>False</td>\n",
              "      <td>False</td>\n",
              "      <td>False</td>\n",
              "      <td>True</td>\n",
              "    </tr>\n",
              "    <tr>\n",
              "      <th>1</th>\n",
              "      <td>28.0</td>\n",
              "      <td>3.0</td>\n",
              "      <td>65000.0</td>\n",
              "      <td>True</td>\n",
              "      <td>False</td>\n",
              "      <td>False</td>\n",
              "      <td>True</td>\n",
              "      <td>False</td>\n",
              "      <td>False</td>\n",
              "      <td>False</td>\n",
              "      <td>False</td>\n",
              "      <td>False</td>\n",
              "      <td>False</td>\n",
              "      <td>False</td>\n",
              "      <td>False</td>\n",
              "      <td>False</td>\n",
              "      <td>True</td>\n",
              "    </tr>\n",
              "    <tr>\n",
              "      <th>2</th>\n",
              "      <td>45.0</td>\n",
              "      <td>15.0</td>\n",
              "      <td>150000.0</td>\n",
              "      <td>False</td>\n",
              "      <td>True</td>\n",
              "      <td>False</td>\n",
              "      <td>False</td>\n",
              "      <td>True</td>\n",
              "      <td>False</td>\n",
              "      <td>False</td>\n",
              "      <td>False</td>\n",
              "      <td>False</td>\n",
              "      <td>True</td>\n",
              "      <td>False</td>\n",
              "      <td>False</td>\n",
              "      <td>False</td>\n",
              "      <td>False</td>\n",
              "    </tr>\n",
              "    <tr>\n",
              "      <th>3</th>\n",
              "      <td>36.0</td>\n",
              "      <td>7.0</td>\n",
              "      <td>60000.0</td>\n",
              "      <td>True</td>\n",
              "      <td>False</td>\n",
              "      <td>True</td>\n",
              "      <td>False</td>\n",
              "      <td>False</td>\n",
              "      <td>False</td>\n",
              "      <td>False</td>\n",
              "      <td>False</td>\n",
              "      <td>False</td>\n",
              "      <td>False</td>\n",
              "      <td>False</td>\n",
              "      <td>False</td>\n",
              "      <td>True</td>\n",
              "      <td>False</td>\n",
              "    </tr>\n",
              "    <tr>\n",
              "      <th>4</th>\n",
              "      <td>52.0</td>\n",
              "      <td>20.0</td>\n",
              "      <td>200000.0</td>\n",
              "      <td>False</td>\n",
              "      <td>True</td>\n",
              "      <td>False</td>\n",
              "      <td>True</td>\n",
              "      <td>False</td>\n",
              "      <td>False</td>\n",
              "      <td>False</td>\n",
              "      <td>False</td>\n",
              "      <td>False</td>\n",
              "      <td>True</td>\n",
              "      <td>False</td>\n",
              "      <td>False</td>\n",
              "      <td>False</td>\n",
              "      <td>False</td>\n",
              "    </tr>\n",
              "  </tbody>\n",
              "</table>\n",
              "</div>"
            ],
            "text/plain": [
              "    Age  Years of Experience    Salary  Gender_Female  Gender_Male  \\\n",
              "0  32.0                  5.0   90000.0          False         True   \n",
              "1  28.0                  3.0   65000.0           True        False   \n",
              "2  45.0                 15.0  150000.0          False         True   \n",
              "3  36.0                  7.0   60000.0           True        False   \n",
              "4  52.0                 20.0  200000.0          False         True   \n",
              "\n",
              "   Education Level_Bachelor's  Education Level_Master's  Education Level_phD  \\\n",
              "0                        True                     False                False   \n",
              "1                       False                      True                False   \n",
              "2                       False                     False                 True   \n",
              "3                        True                     False                False   \n",
              "4                       False                      True                False   \n",
              "\n",
              "   Job Title_Creative and Design  Job Title_Customer Service and Support  \\\n",
              "0                          False                                   False   \n",
              "1                          False                                   False   \n",
              "2                          False                                   False   \n",
              "3                          False                                   False   \n",
              "4                          False                                   False   \n",
              "\n",
              "   Job Title_Finance and Accounting  \\\n",
              "0                             False   \n",
              "1                             False   \n",
              "2                             False   \n",
              "3                             False   \n",
              "4                             False   \n",
              "\n",
              "   Job Title_Human Resources and Recruitment  \\\n",
              "0                                      False   \n",
              "1                                      False   \n",
              "2                                      False   \n",
              "3                                      False   \n",
              "4                                      False   \n",
              "\n",
              "   Job Title_Management and Leadership  \\\n",
              "0                                False   \n",
              "1                                False   \n",
              "2                                 True   \n",
              "3                                False   \n",
              "4                                 True   \n",
              "\n",
              "   Job Title_Operations and Project Management  \\\n",
              "0                                        False   \n",
              "1                                        False   \n",
              "2                                        False   \n",
              "3                                        False   \n",
              "4                                        False   \n",
              "\n",
              "   Job Title_Research and Analysis  Job Title_Sales and Marketing  \\\n",
              "0                            False                          False   \n",
              "1                            False                          False   \n",
              "2                            False                          False   \n",
              "3                            False                           True   \n",
              "4                            False                          False   \n",
              "\n",
              "   Job Title_Software and Technology  \n",
              "0                               True  \n",
              "1                               True  \n",
              "2                              False  \n",
              "3                              False  \n",
              "4                              False  "
            ]
          },
          "execution_count": 80,
          "metadata": {},
          "output_type": "execute_result"
        }
      ],
      "source": [
        "data.head()"
      ]
    },
    {
      "cell_type": "markdown",
      "metadata": {
        "id": "M7mNZ5s1fCxP"
      },
      "source": [
        "Applying Random Forest Regression"
      ]
    },
    {
      "cell_type": "code",
      "execution_count": 81,
      "metadata": {
        "id": "TGFl6tlAjuyt"
      },
      "outputs": [],
      "source": [
        "X = data.drop(columns = ['Salary'])\n",
        "y = data['Salary']"
      ]
    },
    {
      "cell_type": "code",
      "execution_count": 82,
      "metadata": {},
      "outputs": [
        {
          "data": {
            "text/html": [
              "<div>\n",
              "<style scoped>\n",
              "    .dataframe tbody tr th:only-of-type {\n",
              "        vertical-align: middle;\n",
              "    }\n",
              "\n",
              "    .dataframe tbody tr th {\n",
              "        vertical-align: top;\n",
              "    }\n",
              "\n",
              "    .dataframe thead th {\n",
              "        text-align: right;\n",
              "    }\n",
              "</style>\n",
              "<table border=\"1\" class=\"dataframe\">\n",
              "  <thead>\n",
              "    <tr style=\"text-align: right;\">\n",
              "      <th></th>\n",
              "      <th>Age</th>\n",
              "      <th>Years of Experience</th>\n",
              "      <th>Gender_Female</th>\n",
              "      <th>Gender_Male</th>\n",
              "      <th>Education Level_Bachelor's</th>\n",
              "      <th>Education Level_Master's</th>\n",
              "      <th>Education Level_phD</th>\n",
              "      <th>Job Title_Creative and Design</th>\n",
              "      <th>Job Title_Customer Service and Support</th>\n",
              "      <th>Job Title_Finance and Accounting</th>\n",
              "      <th>Job Title_Human Resources and Recruitment</th>\n",
              "      <th>Job Title_Management and Leadership</th>\n",
              "      <th>Job Title_Operations and Project Management</th>\n",
              "      <th>Job Title_Research and Analysis</th>\n",
              "      <th>Job Title_Sales and Marketing</th>\n",
              "      <th>Job Title_Software and Technology</th>\n",
              "    </tr>\n",
              "  </thead>\n",
              "  <tbody>\n",
              "    <tr>\n",
              "      <th>0</th>\n",
              "      <td>32.0</td>\n",
              "      <td>5.0</td>\n",
              "      <td>False</td>\n",
              "      <td>True</td>\n",
              "      <td>True</td>\n",
              "      <td>False</td>\n",
              "      <td>False</td>\n",
              "      <td>False</td>\n",
              "      <td>False</td>\n",
              "      <td>False</td>\n",
              "      <td>False</td>\n",
              "      <td>False</td>\n",
              "      <td>False</td>\n",
              "      <td>False</td>\n",
              "      <td>False</td>\n",
              "      <td>True</td>\n",
              "    </tr>\n",
              "    <tr>\n",
              "      <th>1</th>\n",
              "      <td>28.0</td>\n",
              "      <td>3.0</td>\n",
              "      <td>True</td>\n",
              "      <td>False</td>\n",
              "      <td>False</td>\n",
              "      <td>True</td>\n",
              "      <td>False</td>\n",
              "      <td>False</td>\n",
              "      <td>False</td>\n",
              "      <td>False</td>\n",
              "      <td>False</td>\n",
              "      <td>False</td>\n",
              "      <td>False</td>\n",
              "      <td>False</td>\n",
              "      <td>False</td>\n",
              "      <td>True</td>\n",
              "    </tr>\n",
              "    <tr>\n",
              "      <th>2</th>\n",
              "      <td>45.0</td>\n",
              "      <td>15.0</td>\n",
              "      <td>False</td>\n",
              "      <td>True</td>\n",
              "      <td>False</td>\n",
              "      <td>False</td>\n",
              "      <td>True</td>\n",
              "      <td>False</td>\n",
              "      <td>False</td>\n",
              "      <td>False</td>\n",
              "      <td>False</td>\n",
              "      <td>True</td>\n",
              "      <td>False</td>\n",
              "      <td>False</td>\n",
              "      <td>False</td>\n",
              "      <td>False</td>\n",
              "    </tr>\n",
              "    <tr>\n",
              "      <th>3</th>\n",
              "      <td>36.0</td>\n",
              "      <td>7.0</td>\n",
              "      <td>True</td>\n",
              "      <td>False</td>\n",
              "      <td>True</td>\n",
              "      <td>False</td>\n",
              "      <td>False</td>\n",
              "      <td>False</td>\n",
              "      <td>False</td>\n",
              "      <td>False</td>\n",
              "      <td>False</td>\n",
              "      <td>False</td>\n",
              "      <td>False</td>\n",
              "      <td>False</td>\n",
              "      <td>True</td>\n",
              "      <td>False</td>\n",
              "    </tr>\n",
              "    <tr>\n",
              "      <th>4</th>\n",
              "      <td>52.0</td>\n",
              "      <td>20.0</td>\n",
              "      <td>False</td>\n",
              "      <td>True</td>\n",
              "      <td>False</td>\n",
              "      <td>True</td>\n",
              "      <td>False</td>\n",
              "      <td>False</td>\n",
              "      <td>False</td>\n",
              "      <td>False</td>\n",
              "      <td>False</td>\n",
              "      <td>True</td>\n",
              "      <td>False</td>\n",
              "      <td>False</td>\n",
              "      <td>False</td>\n",
              "      <td>False</td>\n",
              "    </tr>\n",
              "  </tbody>\n",
              "</table>\n",
              "</div>"
            ],
            "text/plain": [
              "    Age  Years of Experience  Gender_Female  Gender_Male  \\\n",
              "0  32.0                  5.0          False         True   \n",
              "1  28.0                  3.0           True        False   \n",
              "2  45.0                 15.0          False         True   \n",
              "3  36.0                  7.0           True        False   \n",
              "4  52.0                 20.0          False         True   \n",
              "\n",
              "   Education Level_Bachelor's  Education Level_Master's  Education Level_phD  \\\n",
              "0                        True                     False                False   \n",
              "1                       False                      True                False   \n",
              "2                       False                     False                 True   \n",
              "3                        True                     False                False   \n",
              "4                       False                      True                False   \n",
              "\n",
              "   Job Title_Creative and Design  Job Title_Customer Service and Support  \\\n",
              "0                          False                                   False   \n",
              "1                          False                                   False   \n",
              "2                          False                                   False   \n",
              "3                          False                                   False   \n",
              "4                          False                                   False   \n",
              "\n",
              "   Job Title_Finance and Accounting  \\\n",
              "0                             False   \n",
              "1                             False   \n",
              "2                             False   \n",
              "3                             False   \n",
              "4                             False   \n",
              "\n",
              "   Job Title_Human Resources and Recruitment  \\\n",
              "0                                      False   \n",
              "1                                      False   \n",
              "2                                      False   \n",
              "3                                      False   \n",
              "4                                      False   \n",
              "\n",
              "   Job Title_Management and Leadership  \\\n",
              "0                                False   \n",
              "1                                False   \n",
              "2                                 True   \n",
              "3                                False   \n",
              "4                                 True   \n",
              "\n",
              "   Job Title_Operations and Project Management  \\\n",
              "0                                        False   \n",
              "1                                        False   \n",
              "2                                        False   \n",
              "3                                        False   \n",
              "4                                        False   \n",
              "\n",
              "   Job Title_Research and Analysis  Job Title_Sales and Marketing  \\\n",
              "0                            False                          False   \n",
              "1                            False                          False   \n",
              "2                            False                          False   \n",
              "3                            False                           True   \n",
              "4                            False                          False   \n",
              "\n",
              "   Job Title_Software and Technology  \n",
              "0                               True  \n",
              "1                               True  \n",
              "2                              False  \n",
              "3                              False  \n",
              "4                              False  "
            ]
          },
          "execution_count": 82,
          "metadata": {},
          "output_type": "execute_result"
        }
      ],
      "source": [
        "X.head()"
      ]
    },
    {
      "cell_type": "code",
      "execution_count": 83,
      "metadata": {
        "id": "b48Wc6O_daFq"
      },
      "outputs": [],
      "source": [
        "X_train, X_test, y_train, y_test = train_test_split(X, y, test_size=0.2, random_state=42)"
      ]
    },
    {
      "cell_type": "code",
      "execution_count": 84,
      "metadata": {
        "colab": {
          "base_uri": "https://localhost:8080/"
        },
        "id": "Mct4UaPCjsDi",
        "outputId": "4a52fcbe-e92d-438e-c30f-d3cbc419ffa7"
      },
      "outputs": [
        {
          "data": {
            "text/plain": [
              "((1429, 16), (358, 16))"
            ]
          },
          "execution_count": 84,
          "metadata": {},
          "output_type": "execute_result"
        }
      ],
      "source": [
        "X_train.shape, X_test.shape"
      ]
    },
    {
      "cell_type": "code",
      "execution_count": 85,
      "metadata": {
        "id": "6on4paCgkSKU"
      },
      "outputs": [],
      "source": [
        "training_model = RandomForestRegressor()"
      ]
    },
    {
      "cell_type": "code",
      "execution_count": 86,
      "metadata": {
        "colab": {
          "base_uri": "https://localhost:8080/",
          "height": 74
        },
        "id": "dbOQjLG2kXWs",
        "outputId": "2b4084ba-87a3-404a-cc51-efde7b0e55a5"
      },
      "outputs": [
        {
          "data": {
            "text/html": [
              "<style>#sk-container-id-3 {color: black;}#sk-container-id-3 pre{padding: 0;}#sk-container-id-3 div.sk-toggleable {background-color: white;}#sk-container-id-3 label.sk-toggleable__label {cursor: pointer;display: block;width: 100%;margin-bottom: 0;padding: 0.3em;box-sizing: border-box;text-align: center;}#sk-container-id-3 label.sk-toggleable__label-arrow:before {content: \"▸\";float: left;margin-right: 0.25em;color: #696969;}#sk-container-id-3 label.sk-toggleable__label-arrow:hover:before {color: black;}#sk-container-id-3 div.sk-estimator:hover label.sk-toggleable__label-arrow:before {color: black;}#sk-container-id-3 div.sk-toggleable__content {max-height: 0;max-width: 0;overflow: hidden;text-align: left;background-color: #f0f8ff;}#sk-container-id-3 div.sk-toggleable__content pre {margin: 0.2em;color: black;border-radius: 0.25em;background-color: #f0f8ff;}#sk-container-id-3 input.sk-toggleable__control:checked~div.sk-toggleable__content {max-height: 200px;max-width: 100%;overflow: auto;}#sk-container-id-3 input.sk-toggleable__control:checked~label.sk-toggleable__label-arrow:before {content: \"▾\";}#sk-container-id-3 div.sk-estimator input.sk-toggleable__control:checked~label.sk-toggleable__label {background-color: #d4ebff;}#sk-container-id-3 div.sk-label input.sk-toggleable__control:checked~label.sk-toggleable__label {background-color: #d4ebff;}#sk-container-id-3 input.sk-hidden--visually {border: 0;clip: rect(1px 1px 1px 1px);clip: rect(1px, 1px, 1px, 1px);height: 1px;margin: -1px;overflow: hidden;padding: 0;position: absolute;width: 1px;}#sk-container-id-3 div.sk-estimator {font-family: monospace;background-color: #f0f8ff;border: 1px dotted black;border-radius: 0.25em;box-sizing: border-box;margin-bottom: 0.5em;}#sk-container-id-3 div.sk-estimator:hover {background-color: #d4ebff;}#sk-container-id-3 div.sk-parallel-item::after {content: \"\";width: 100%;border-bottom: 1px solid gray;flex-grow: 1;}#sk-container-id-3 div.sk-label:hover label.sk-toggleable__label {background-color: #d4ebff;}#sk-container-id-3 div.sk-serial::before {content: \"\";position: absolute;border-left: 1px solid gray;box-sizing: border-box;top: 0;bottom: 0;left: 50%;z-index: 0;}#sk-container-id-3 div.sk-serial {display: flex;flex-direction: column;align-items: center;background-color: white;padding-right: 0.2em;padding-left: 0.2em;position: relative;}#sk-container-id-3 div.sk-item {position: relative;z-index: 1;}#sk-container-id-3 div.sk-parallel {display: flex;align-items: stretch;justify-content: center;background-color: white;position: relative;}#sk-container-id-3 div.sk-item::before, #sk-container-id-3 div.sk-parallel-item::before {content: \"\";position: absolute;border-left: 1px solid gray;box-sizing: border-box;top: 0;bottom: 0;left: 50%;z-index: -1;}#sk-container-id-3 div.sk-parallel-item {display: flex;flex-direction: column;z-index: 1;position: relative;background-color: white;}#sk-container-id-3 div.sk-parallel-item:first-child::after {align-self: flex-end;width: 50%;}#sk-container-id-3 div.sk-parallel-item:last-child::after {align-self: flex-start;width: 50%;}#sk-container-id-3 div.sk-parallel-item:only-child::after {width: 0;}#sk-container-id-3 div.sk-dashed-wrapped {border: 1px dashed gray;margin: 0 0.4em 0.5em 0.4em;box-sizing: border-box;padding-bottom: 0.4em;background-color: white;}#sk-container-id-3 div.sk-label label {font-family: monospace;font-weight: bold;display: inline-block;line-height: 1.2em;}#sk-container-id-3 div.sk-label-container {text-align: center;}#sk-container-id-3 div.sk-container {/* jupyter's `normalize.less` sets `[hidden] { display: none; }` but bootstrap.min.css set `[hidden] { display: none !important; }` so we also need the `!important` here to be able to override the default hidden behavior on the sphinx rendered scikit-learn.org. See: https://github.com/scikit-learn/scikit-learn/issues/21755 */display: inline-block !important;position: relative;}#sk-container-id-3 div.sk-text-repr-fallback {display: none;}</style><div id=\"sk-container-id-3\" class=\"sk-top-container\"><div class=\"sk-text-repr-fallback\"><pre>RandomForestRegressor()</pre><b>In a Jupyter environment, please rerun this cell to show the HTML representation or trust the notebook. <br />On GitHub, the HTML representation is unable to render, please try loading this page with nbviewer.org.</b></div><div class=\"sk-container\" hidden><div class=\"sk-item\"><div class=\"sk-estimator sk-toggleable\"><input class=\"sk-toggleable__control sk-hidden--visually\" id=\"sk-estimator-id-3\" type=\"checkbox\" checked><label for=\"sk-estimator-id-3\" class=\"sk-toggleable__label sk-toggleable__label-arrow\">RandomForestRegressor</label><div class=\"sk-toggleable__content\"><pre>RandomForestRegressor()</pre></div></div></div></div></div>"
            ],
            "text/plain": [
              "RandomForestRegressor()"
            ]
          },
          "execution_count": 86,
          "metadata": {},
          "output_type": "execute_result"
        }
      ],
      "source": [
        "training_model.fit(X_train, y_train)"
      ]
    },
    {
      "cell_type": "code",
      "execution_count": 87,
      "metadata": {
        "colab": {
          "base_uri": "https://localhost:8080/"
        },
        "id": "RZcFvsI_kwx_",
        "outputId": "3447e7b6-d8f3-4477-9a5f-c94f4bc70f4d"
      },
      "outputs": [
        {
          "data": {
            "text/plain": [
              "0.8617626291033611"
            ]
          },
          "execution_count": 87,
          "metadata": {},
          "output_type": "execute_result"
        }
      ],
      "source": [
        "training_model.score(X_test, y_test)"
      ]
    },
    {
      "cell_type": "markdown",
      "metadata": {
        "id": "-N9hGVyJl5Aq"
      },
      "source": [
        "Since we have a limited data 86.3% accuracy might be commendable."
      ]
    },
    {
      "cell_type": "markdown",
      "metadata": {
        "id": "BFFUZgHJmR4V"
      },
      "source": [
        "Train our model with entire dataset"
      ]
    },
    {
      "cell_type": "code",
      "execution_count": 88,
      "metadata": {
        "id": "N9pvvsY6k9MD"
      },
      "outputs": [],
      "source": [
        "model = RandomForestRegressor()"
      ]
    },
    {
      "cell_type": "code",
      "execution_count": 89,
      "metadata": {
        "colab": {
          "base_uri": "https://localhost:8080/",
          "height": 74
        },
        "id": "GeRUMO9_mdY3",
        "outputId": "761b3ffc-df13-4742-c390-4e4839f51884"
      },
      "outputs": [
        {
          "data": {
            "text/html": [
              "<style>#sk-container-id-4 {color: black;}#sk-container-id-4 pre{padding: 0;}#sk-container-id-4 div.sk-toggleable {background-color: white;}#sk-container-id-4 label.sk-toggleable__label {cursor: pointer;display: block;width: 100%;margin-bottom: 0;padding: 0.3em;box-sizing: border-box;text-align: center;}#sk-container-id-4 label.sk-toggleable__label-arrow:before {content: \"▸\";float: left;margin-right: 0.25em;color: #696969;}#sk-container-id-4 label.sk-toggleable__label-arrow:hover:before {color: black;}#sk-container-id-4 div.sk-estimator:hover label.sk-toggleable__label-arrow:before {color: black;}#sk-container-id-4 div.sk-toggleable__content {max-height: 0;max-width: 0;overflow: hidden;text-align: left;background-color: #f0f8ff;}#sk-container-id-4 div.sk-toggleable__content pre {margin: 0.2em;color: black;border-radius: 0.25em;background-color: #f0f8ff;}#sk-container-id-4 input.sk-toggleable__control:checked~div.sk-toggleable__content {max-height: 200px;max-width: 100%;overflow: auto;}#sk-container-id-4 input.sk-toggleable__control:checked~label.sk-toggleable__label-arrow:before {content: \"▾\";}#sk-container-id-4 div.sk-estimator input.sk-toggleable__control:checked~label.sk-toggleable__label {background-color: #d4ebff;}#sk-container-id-4 div.sk-label input.sk-toggleable__control:checked~label.sk-toggleable__label {background-color: #d4ebff;}#sk-container-id-4 input.sk-hidden--visually {border: 0;clip: rect(1px 1px 1px 1px);clip: rect(1px, 1px, 1px, 1px);height: 1px;margin: -1px;overflow: hidden;padding: 0;position: absolute;width: 1px;}#sk-container-id-4 div.sk-estimator {font-family: monospace;background-color: #f0f8ff;border: 1px dotted black;border-radius: 0.25em;box-sizing: border-box;margin-bottom: 0.5em;}#sk-container-id-4 div.sk-estimator:hover {background-color: #d4ebff;}#sk-container-id-4 div.sk-parallel-item::after {content: \"\";width: 100%;border-bottom: 1px solid gray;flex-grow: 1;}#sk-container-id-4 div.sk-label:hover label.sk-toggleable__label {background-color: #d4ebff;}#sk-container-id-4 div.sk-serial::before {content: \"\";position: absolute;border-left: 1px solid gray;box-sizing: border-box;top: 0;bottom: 0;left: 50%;z-index: 0;}#sk-container-id-4 div.sk-serial {display: flex;flex-direction: column;align-items: center;background-color: white;padding-right: 0.2em;padding-left: 0.2em;position: relative;}#sk-container-id-4 div.sk-item {position: relative;z-index: 1;}#sk-container-id-4 div.sk-parallel {display: flex;align-items: stretch;justify-content: center;background-color: white;position: relative;}#sk-container-id-4 div.sk-item::before, #sk-container-id-4 div.sk-parallel-item::before {content: \"\";position: absolute;border-left: 1px solid gray;box-sizing: border-box;top: 0;bottom: 0;left: 50%;z-index: -1;}#sk-container-id-4 div.sk-parallel-item {display: flex;flex-direction: column;z-index: 1;position: relative;background-color: white;}#sk-container-id-4 div.sk-parallel-item:first-child::after {align-self: flex-end;width: 50%;}#sk-container-id-4 div.sk-parallel-item:last-child::after {align-self: flex-start;width: 50%;}#sk-container-id-4 div.sk-parallel-item:only-child::after {width: 0;}#sk-container-id-4 div.sk-dashed-wrapped {border: 1px dashed gray;margin: 0 0.4em 0.5em 0.4em;box-sizing: border-box;padding-bottom: 0.4em;background-color: white;}#sk-container-id-4 div.sk-label label {font-family: monospace;font-weight: bold;display: inline-block;line-height: 1.2em;}#sk-container-id-4 div.sk-label-container {text-align: center;}#sk-container-id-4 div.sk-container {/* jupyter's `normalize.less` sets `[hidden] { display: none; }` but bootstrap.min.css set `[hidden] { display: none !important; }` so we also need the `!important` here to be able to override the default hidden behavior on the sphinx rendered scikit-learn.org. See: https://github.com/scikit-learn/scikit-learn/issues/21755 */display: inline-block !important;position: relative;}#sk-container-id-4 div.sk-text-repr-fallback {display: none;}</style><div id=\"sk-container-id-4\" class=\"sk-top-container\"><div class=\"sk-text-repr-fallback\"><pre>RandomForestRegressor()</pre><b>In a Jupyter environment, please rerun this cell to show the HTML representation or trust the notebook. <br />On GitHub, the HTML representation is unable to render, please try loading this page with nbviewer.org.</b></div><div class=\"sk-container\" hidden><div class=\"sk-item\"><div class=\"sk-estimator sk-toggleable\"><input class=\"sk-toggleable__control sk-hidden--visually\" id=\"sk-estimator-id-4\" type=\"checkbox\" checked><label for=\"sk-estimator-id-4\" class=\"sk-toggleable__label sk-toggleable__label-arrow\">RandomForestRegressor</label><div class=\"sk-toggleable__content\"><pre>RandomForestRegressor()</pre></div></div></div></div></div>"
            ],
            "text/plain": [
              "RandomForestRegressor()"
            ]
          },
          "execution_count": 89,
          "metadata": {},
          "output_type": "execute_result"
        }
      ],
      "source": [
        "model.fit(X, y)"
      ]
    },
    {
      "cell_type": "markdown",
      "metadata": {
        "id": "su7SSdp_mqJ9"
      },
      "source": [
        "Create joblib file"
      ]
    },
    {
      "cell_type": "code",
      "execution_count": 90,
      "metadata": {
        "id": "A4tK1h7Smkss"
      },
      "outputs": [
        {
          "data": {
            "text/plain": [
              "['salary_estimator.joblib']"
            ]
          },
          "execution_count": 90,
          "metadata": {},
          "output_type": "execute_result"
        }
      ],
      "source": [
        "joblib.dump(model,'salary_estimator.joblib')"
      ]
    }
  ],
  "metadata": {
    "colab": {
      "provenance": []
    },
    "kernelspec": {
      "display_name": "Python 3",
      "name": "python3"
    },
    "language_info": {
      "codemirror_mode": {
        "name": "ipython",
        "version": 3
      },
      "file_extension": ".py",
      "mimetype": "text/x-python",
      "name": "python",
      "nbconvert_exporter": "python",
      "pygments_lexer": "ipython3",
      "version": "3.11.3"
    }
  },
  "nbformat": 4,
  "nbformat_minor": 0
}
